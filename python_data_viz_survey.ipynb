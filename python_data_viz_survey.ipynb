{
 "cells": [
  {
   "cell_type": "code",
   "execution_count": null,
   "id": "d059e003-cfeb-4407-8436-8a3c04c937a6",
   "metadata": {},
   "outputs": [],
   "source": [
    "%load_ext autoreload\n",
    "%autoreload 2\n",
    "\n",
    "! mkdir -p data"
   ]
  },
  {
   "cell_type": "markdown",
   "id": "b27223d5-0442-42d0-bdba-f986f81dcac8",
   "metadata": {},
   "source": [
    "<center>\n",
    "    <h1>Doing Data Viz with Python</h1>\n",
    "    <br><br><br>\n",
    "    <img src=\"/files/img/title_viz.png\" width=\"500\"/>\n",
    "    <br>\n",
    "    <img src=\"/files/img/python_logo.svg\" width=\"300\"/>\n",
    "    <h2>Ned Letcher</h2>\n",
    "    <h3>Code: <a href=\"https://github.com/ned2/python-viz\">github.com/ned2/python-viz</a></h3>\n",
    "</center>"
   ]
  },
  {
   "cell_type": "markdown",
   "id": "ff04d21b-ee82-4199-9921-44fec29e5cfe",
   "metadata": {},
   "source": [
    "## What is data visualisation?\n",
    "* Graphic representation of data that visually encodes information\n",
    "* Reveals patterns, trends, relationships\n",
    "* Used to discover and communicate insights\n",
    "\n",
    "<center>\n",
    "    <h3>Examples of Visualisations</h3>\n",
    "    <img src=\"/files/img/plot_types.svg\" width=\"800\"/>\n",
    "</center>"
   ]
  },
  {
   "cell_type": "markdown",
   "id": "40194293-9bcf-4a08-bc95-b59d75b67aa1",
   "metadata": {},
   "source": [
    "## Why visualise data?\n",
    "* Summary statistics mislead\n",
    "* Human visual perception is a powerful tool "
   ]
  },
  {
   "cell_type": "markdown",
   "id": "78e7198c-0f18-4ebf-af07-eb45350eb9f8",
   "metadata": {},
   "source": [
    "### The Datasaurus\n",
    "\n",
    "Like [Anscombe's Quartet](https://en.wikipedia.org/wiki/Anscombe%27s_quartet), the Dinosaur shows us the pitfalls of using summary statistics to understand a dataset.\n",
    "\n",
    "https://www.autodesk.com/research/publications/same-stats-different-graphs"
   ]
  },
  {
   "cell_type": "code",
   "execution_count": null,
   "id": "c761f01b-45ae-47ed-906d-3d33a33c8935",
   "metadata": {},
   "outputs": [],
   "source": [
    "! wget -P data https://raw.githubusercontent.com/jumpingrivers/datasauRus/main/inst/extdata/DatasaurusDozen.tsv"
   ]
  },
  {
   "cell_type": "code",
   "execution_count": null,
   "id": "a1277d73-2d43-4aa7-b7e7-8c0fe92f5e38",
   "metadata": {},
   "outputs": [],
   "source": [
    "from utils.datasaurus import make_datasaurus\n",
    "\n",
    "make_datasaurus();"
   ]
  },
  {
   "cell_type": "markdown",
   "id": "4b27ddfd-6a94-4503-b0e8-8471634feb4a",
   "metadata": {},
   "source": [
    "Let's have a look at some pedestrian traffic for Southern Cross Station for March 2020. "
   ]
  },
  {
   "cell_type": "code",
   "execution_count": null,
   "id": "e38dd2bb-7917-4c3e-8db1-3a159d879318",
   "metadata": {},
   "outputs": [],
   "source": [
    "! ./bin/get-pedestrian-data.sh"
   ]
  },
  {
   "cell_type": "code",
   "execution_count": null,
   "id": "4edbd41e-40c6-439e-b29d-2063e50460b5",
   "metadata": {},
   "outputs": [],
   "source": [
    "from utils.pedestrian import load_and_clean_pedestrian_data\n",
    "\n",
    "pedestrian_df = load_and_clean_pedestrian_data(\n",
    "    \"data/Pedestrian_Counting_System_-_Monthly__counts_per_hour_.csv\"\n",
    ")\n",
    "\n",
    "sc_march_2020_df = pedestrian_df[\n",
    "    (pedestrian_df[\"Year\"] == 2020)\n",
    "    & (pedestrian_df[\"Month\"] == \"March\")\n",
    "    & (pedestrian_df[\"Sensor_Name\"] == \"Southern Cross Station\")\n",
    "]\n",
    "\n",
    "sc_march_2020_df.head(20)"
   ]
  },
  {
   "cell_type": "markdown",
   "id": "c86e692b-8b35-4830-b9c2-30d3ddaf1f04",
   "metadata": {},
   "source": [
    "_Tabular representations of datasets are difficult to interpret_\n",
    "\n",
    "Let's visualisze the same data using a line chart:"
   ]
  },
  {
   "cell_type": "code",
   "execution_count": null,
   "id": "3100efa0-aeb5-4066-957b-4a18076b943a",
   "metadata": {},
   "outputs": [],
   "source": [
    "sc_march_2020_df.plot(\n",
    "    x=\"Date_Time\",\n",
    "    y=\"Hourly_Counts\",\n",
    "    figsize=(15, 5),\n",
    "    title=\"Hourly Counts for Southern Cross Station, March 2020\",\n",
    ");"
   ]
  },
  {
   "cell_type": "markdown",
   "id": "347afe14-eae8-453b-aa7a-53887f27f742",
   "metadata": {},
   "source": [
    "_**Hot Tip:** Always title your plots!_"
   ]
  },
  {
   "cell_type": "markdown",
   "id": "dba575d7-3cdc-4631-8df0-ddd37b2f592a",
   "metadata": {},
   "source": [
    "### _Visualisations help reveal patterns within data_\n",
    "\n",
    "Often the most effective way to do things with data:\n",
    "\n",
    "* decribe\n",
    "* explore\n",
    "* summarise\n",
    "* communicate\n",
    "\n",
    "And sometimes it is more accurate than quantitative approaches..."
   ]
  },
  {
   "cell_type": "markdown",
   "id": "eed63265-8255-409c-8cf0-05f1b7940198",
   "metadata": {},
   "source": [
    "## Python Data Viz Libraries\n",
    "\n",
    "There are a _lot_ of Python data viz libraries..."
   ]
  },
  {
   "cell_type": "markdown",
   "id": "70175377-4385-462b-8c6f-c028a9620ba8",
   "metadata": {},
   "source": [
    "<br>\n",
    "<center>\n",
    "    <img src=\"/files/img/python_viz_landscape.svg\" width=800/>\n",
    "    <h2><i>Which visualisation library to use?</i></h2>\n",
    "</center>"
   ]
  },
  {
   "cell_type": "markdown",
   "id": "92405b2d-df7a-4b21-97ad-44a1cb5c2d53",
   "metadata": {},
   "source": [
    "***\n",
    "<br>\n",
    "<center>\n",
    "    <img src=\"/files/img/python_viz_libs.svg\" width=1000/>\n",
    "    <h2><i>A framework for comparing general purpose Python Viz Libraries</i></h2>\n",
    "</center>"
   ]
  },
  {
   "cell_type": "markdown",
   "id": "55006f62-2148-4ce6-9d51-941965b81038",
   "metadata": {},
   "source": [
    "## Matplotlib and Pandas\n",
    "\n",
    "Pandas' `plot` method defaults to using Matplotlib.\n",
    "\n",
    "Other Pandas [plotting backends](https://pandas.pydata.org/pandas-docs/dev/user_guide/visualization.html#plotting-backends) currently available are:\n",
    "* [Plotly](https://plotly.com/python/pandas-backend/)\n",
    "* [hvPlot](https://hvplot.holoviz.org/user_guide/Pandas_API.html)\n",
    "* [Bokeh](https://github.com/PatrikHlobil/Pandas-Bokeh)\n",
    "* [Altair](https://github.com/altair-viz/altair_pandas)"
   ]
  },
  {
   "cell_type": "code",
   "execution_count": null,
   "id": "75eb2d65-eb9e-453d-b6ac-64e233bf0733",
   "metadata": {},
   "outputs": [],
   "source": [
    "import matplotlib as mpl\n",
    "%matplotlib inline\n",
    "\n",
    "sc_march_2020_df.plot(\n",
    "    x=\"Date_Time\",\n",
    "    y=\"Hourly_Counts\",\n",
    "    figsize=(15, 5),\n",
    "    title=\"Hourly counts for South Bank station, March 2020\",\n",
    ");"
   ]
  },
  {
   "cell_type": "markdown",
   "id": "f4fcb300-d988-4bd3-9225-fe0355bc1ec8",
   "metadata": {},
   "source": [
    "**Limitations**\n",
    "1. Doesn't look very pretty out of the box\n",
    "2. Pandas plotting API is limited\n",
    "3. Static image: can’t zoom or toggle visibility of data"
   ]
  },
  {
   "cell_type": "markdown",
   "id": "a87d1a01-203e-44b5-826a-83a028fc6276",
   "metadata": {},
   "source": [
    "### Improving the Aesthetics of Static Plots"
   ]
  },
  {
   "cell_type": "markdown",
   "id": "ddb2a472-d48b-40bc-8684-a302073a2790",
   "metadata": {},
   "source": [
    "Suggestions:\n",
    "* Use an alternative style\n",
    "* Increase the plot DPI"
   ]
  },
  {
   "cell_type": "code",
   "execution_count": null,
   "id": "a574a932-ebae-4111-8546-97a18d03fc39",
   "metadata": {},
   "outputs": [],
   "source": [
    "import matplotlib.pyplot as plt\n",
    "\n",
    "plt.style.available"
   ]
  },
  {
   "cell_type": "code",
   "execution_count": null,
   "id": "c33e1d14-f9b4-40d0-9594-0f6d48a9b75b",
   "metadata": {},
   "outputs": [],
   "source": [
    "plt.style.use(\"seaborn\")\n",
    "\n",
    "fig = plt.figure(dpi=300, figsize=(15, 5))\n",
    "\n",
    "sc_march_2020_df.plot(\n",
    "    x=\"Date_Time\",\n",
    "    y=\"Hourly_Counts\",\n",
    "    legend=None,\n",
    "    figsize=(15, 5),\n",
    "    title=\"Hourly counts for South Bank station, March 2020\",\n",
    "    ax=plt.gca(),  # supply Pandas with the axes from the current figure\n",
    ");"
   ]
  },
  {
   "cell_type": "markdown",
   "id": "ab346925-9831-4abf-bae2-0829ffa0db4f",
   "metadata": {},
   "source": [
    "### Use `ipympl` for basic interactivity"
   ]
  },
  {
   "cell_type": "code",
   "execution_count": null,
   "id": "961b88cb-f8c8-4f2d-aefa-989e9e672812",
   "metadata": {},
   "outputs": [],
   "source": [
    "%matplotlib widget\n",
    "\n",
    "sc_march_2020_df.plot(\n",
    "    x=\"Date_Time\",\n",
    "    y=\"Hourly_Counts\",\n",
    "    figsize=(15, 5),\n",
    "    title=\"Hourly counts for South Bank station, March 2020\",\n",
    ");"
   ]
  },
  {
   "cell_type": "markdown",
   "id": "6051283c-ef0a-446b-a7c5-b57d98cc5c19",
   "metadata": {},
   "source": [
    "### For More statistical use-cases, see if Seaborn has what you need\n",
    "\n",
    "[Seaborn Gallery](https://seaborn.pydata.org/examples/index.html)"
   ]
  },
  {
   "cell_type": "markdown",
   "id": "c2b984a9-2865-48e2-a83d-c095ee0834a6",
   "metadata": {},
   "source": [
    "#### Clustermap"
   ]
  },
  {
   "cell_type": "code",
   "execution_count": null,
   "id": "7d8fd524-39ab-48e2-aacc-020f50ea31e1",
   "metadata": {},
   "outputs": [],
   "source": [
    "%matplotlib inline\n",
    "\n",
    "import pandas as pd\n",
    "import seaborn as sns\n",
    "\n",
    "sns.set_theme()\n",
    "\n",
    "\n",
    "def make_clustermap():\n",
    "    # Load the brain networks example dataset\n",
    "    df = sns.load_dataset(\"brain_networks\", header=[0, 1, 2], index_col=0)\n",
    "\n",
    "    # Select a subset of the networks\n",
    "    used_networks = [1, 5, 6, 7, 8, 12, 13, 17]\n",
    "    used_columns = (\n",
    "        df.columns.get_level_values(\"network\").astype(int).isin(used_networks)\n",
    "    )\n",
    "    df = df.loc[:, used_columns]\n",
    "\n",
    "    # Create a categorical palette to identify the networks\n",
    "    network_pal = sns.husl_palette(8, s=0.45)\n",
    "    network_lut = dict(zip(map(str, used_networks), network_pal))\n",
    "\n",
    "    # Convert the palette to vectors that will be drawn on the side of the matrix\n",
    "    networks = df.columns.get_level_values(\"network\")\n",
    "    network_colors = pd.Series(networks, index=df.columns).map(network_lut)\n",
    "\n",
    "    # Draw the full plot\n",
    "    g = sns.clustermap(\n",
    "        df.corr(),\n",
    "        center=0,\n",
    "        cmap=\"vlag\",\n",
    "        row_colors=network_colors,\n",
    "        col_colors=network_colors,\n",
    "        dendrogram_ratio=(0.1, 0.2),\n",
    "        cbar_pos=(0.02, 0.32, 0.03, 0.2),\n",
    "        linewidths=0.75,\n",
    "        figsize=(12, 13),\n",
    "    )\n",
    "\n",
    "    g.ax_row_dendrogram.remove()\n",
    "\n",
    "\n",
    "make_clustermap()"
   ]
  },
  {
   "cell_type": "markdown",
   "id": "e2cc5a85-7c93-4b70-a0f0-716e525eb4c0",
   "metadata": {},
   "source": [
    "#### Ridge Plot"
   ]
  },
  {
   "cell_type": "code",
   "execution_count": null,
   "id": "673432b5-c7a9-48b6-81f8-4c5d287799be",
   "metadata": {},
   "outputs": [],
   "source": [
    "import matplotlib.pyplot as plt\n",
    "import numpy as np\n",
    "import pandas as pd\n",
    "import seaborn as sns\n",
    "\n",
    "sns.set_theme(style=\"white\", rc={\"axes.facecolor\": (0, 0, 0, 0)})\n",
    "\n",
    "\n",
    "def make_plot():\n",
    "    # Create the data\n",
    "    rs = np.random.RandomState(1979)\n",
    "    x = rs.randn(500)\n",
    "    g = np.tile(list(\"ABCDEFGHIJ\"), 50)\n",
    "    df = pd.DataFrame(dict(x=x, g=g))\n",
    "    m = df.g.map(ord)\n",
    "    df[\"x\"] += m\n",
    "\n",
    "    # Initialize the FacetGrid object\n",
    "    pal = sns.cubehelix_palette(10, rot=-0.25, light=0.7)\n",
    "    g = sns.FacetGrid(df, row=\"g\", hue=\"g\", aspect=15, height=0.5, palette=pal)\n",
    "\n",
    "    # Draw the densities in a few steps\n",
    "    g.map(\n",
    "        sns.kdeplot,\n",
    "        \"x\",\n",
    "        bw_adjust=0.5,\n",
    "        clip_on=False,\n",
    "        fill=True,\n",
    "        alpha=1,\n",
    "        linewidth=1.5,\n",
    "    )\n",
    "    g.map(sns.kdeplot, \"x\", clip_on=False, color=\"w\", lw=2, bw_adjust=0.5)\n",
    "\n",
    "    # passing color=None to refline() uses the hue mapping\n",
    "    g.refline(y=0, linewidth=2, linestyle=\"-\", color=None, clip_on=False)\n",
    "\n",
    "    # Define and use a simple function to label the plot in axes coordinates\n",
    "    def label(x, color, label):\n",
    "        ax = plt.gca()\n",
    "        ax.text(\n",
    "            0,\n",
    "            0.2,\n",
    "            label,\n",
    "            fontweight=\"bold\",\n",
    "            color=color,\n",
    "            ha=\"left\",\n",
    "            va=\"center\",\n",
    "            transform=ax.transAxes,\n",
    "        )\n",
    "\n",
    "    g.map(label, \"x\")\n",
    "\n",
    "    # Set the subplots to overlap\n",
    "    g.figure.subplots_adjust(hspace=-0.25)\n",
    "\n",
    "    # Remove axes details that don't play well with overlap\n",
    "    g.set_titles(\"\")\n",
    "    g.set(yticks=[], ylabel=\"\")\n",
    "    g.despine(bottom=True, left=True)\n",
    "\n",
    "\n",
    "make_plot()"
   ]
  },
  {
   "cell_type": "markdown",
   "id": "2c14d5bc-60f6-4fb6-8f88-58889a2fab48",
   "metadata": {},
   "source": [
    "**Hot Tip:** wrap up code to make plots into functions. Useful for:\n",
    " - parameterising you plot and facilitating code reuse\n",
    " - not polluting the global namespace"
   ]
  },
  {
   "cell_type": "markdown",
   "id": "9dfc86c5-bb6b-462a-af03-b7e3e4dbd0ac",
   "metadata": {},
   "source": [
    "### Summary: Matplotlib, Seaborn, and Pandas\n",
    "\n",
    "Matplotlib is a powerful and expressive visualisation library, but\n",
    "* can be verbose to produce more complex plots\n",
    "* stateful API can be counter-intuitive \n",
    "* does not support interactivity well (but can create [animated plots](https://matplotlib.org/stable/api/animation_api.html))\n",
    "\n",
    "Well-suited contexts of use:\n",
    "* Creating high-quality bespoke visualisations needed for publication (see [How to make beautiful data visualizations in Python with matplotlib](http://www.randalolson.com/2014/06/28/how-to-make-beautiful-data-visualizations-in-python-with-matplotlib/))\n",
    "* Use via Pandas for rapid exploratory data analysis  \n",
    "* Use via Seaborn if it's a good fit for your analysis\n"
   ]
  },
  {
   "cell_type": "markdown",
   "id": "72bed286-afb7-489f-bb86-f8824b9f26fc",
   "metadata": {},
   "source": [
    "## Dynamic visualisation with Plotly, Bokeh, and Altair\n",
    "\n",
    "Web-first visualisation libraries based on JavaScript, that all have interactive features out of the box"
   ]
  },
  {
   "cell_type": "markdown",
   "id": "c1b89f66-fca2-4448-86d5-b30d17b7b54c",
   "metadata": {},
   "source": [
    "### Plotly\n",
    "\n",
    "We're using [Plotly Express](https://plotly.com/python/plotly-express/), Plotly's higher-level APi for creating Plotly figures."
   ]
  },
  {
   "cell_type": "code",
   "execution_count": null,
   "id": "65e7df5f-e349-48d9-b980-4f0dd6197e84",
   "metadata": {},
   "outputs": [],
   "source": [
    "import plotly.express as px\n",
    "\n",
    "px.line(\n",
    "    sc_march_2020_df,\n",
    "    x=\"Date_Time\",\n",
    "    y=\"Hourly_Counts\",\n",
    "    title=\"Hourly counts for South Bank station, March 2020\",\n",
    ")"
   ]
  },
  {
   "cell_type": "code",
   "execution_count": null,
   "id": "abf58865-f96a-4655-bd7a-af7ee32db549",
   "metadata": {},
   "outputs": [],
   "source": [
    "gapminder_df = px.data.gapminder()\n",
    "px.scatter(\n",
    "    gapminder_df,\n",
    "    x=\"gdpPercap\",\n",
    "    y=\"lifeExp\",\n",
    "    size=\"pop\",\n",
    "    color=\"continent\",\n",
    "    hover_name=\"country\",\n",
    "    log_x=True,\n",
    "    size_max=60,\n",
    "    animation_frame=\"year\",\n",
    "    range_y=[25, 90],\n",
    "    title=\"GDP per capita compared with life expectency over time\"\n",
    ")"
   ]
  },
  {
   "cell_type": "markdown",
   "id": "2b5a5835-a081-4da5-9067-0769289ffa1c",
   "metadata": {},
   "source": [
    "## HoloViews (and Bokeh)\n",
    "\n",
    "We're using [Holoviews](https://holoviews.org) as a high-level libray that targets [Bokeh](https://bokeh.org/) as well as Matplotlib and Plotly."
   ]
  },
  {
   "cell_type": "code",
   "execution_count": null,
   "id": "137f727f-dbc0-4ba3-bfe1-8dcfe96f3478",
   "metadata": {},
   "outputs": [],
   "source": [
    "import holoviews as hv\n",
    "hv.notebook_extension()\n",
    "hv.extension('bokeh')\n",
    "\n",
    "plot = hv.Curve(sc_march_2020_df, \"Date_Time\", \"Hourly_Counts\")\n",
    "plot.opts(frame_width=900, frame_height=250)"
   ]
  },
  {
   "cell_type": "markdown",
   "id": "fed7ab92-1da8-45ad-8591-94b166826a34",
   "metadata": {},
   "source": [
    "## hvPlot\n",
    "\n",
    "Even _higher_ level language build on top of Holoviews.\n",
    "\n",
    "https://hvplot.holoviz.org"
   ]
  },
  {
   "cell_type": "markdown",
   "id": "6b398a5a-f0b2-4aa3-8453-4a8ae35aa034",
   "metadata": {},
   "source": [
    "## Altair\n",
    "\n",
    "Altair is a declarative API for producing visualisations based on the [Vega-Lite](http://vega.github.io/vega-lite/) visualization grammar.\n",
    "\n",
    "Based on a grammar of graphics (like [ggplot](https://ggplot2.tidyverse.org/)), that also includes a grammar of interactive graphics."
   ]
  },
  {
   "cell_type": "code",
   "execution_count": null,
   "id": "9c412629-4a5b-4314-9315-09e4f42b0feb",
   "metadata": {},
   "outputs": [],
   "source": [
    "import altair as alt\n",
    "\n",
    "alt.Chart(sc_march_2020_df).mark_line().encode(\n",
    "    x=\"Date_Time:T\", y=\"Hourly_Counts:Q\"\n",
    ").properties(width=1000)"
   ]
  },
  {
   "cell_type": "markdown",
   "id": "caa8fe4e-d378-4fca-9de8-ab60f9b0b5b5",
   "metadata": {},
   "source": [
    "Interaction is not configured by default. You need to wire this up. \n",
    "\n",
    "This involves a bit more [configuration](https://altair-viz.github.io/user_guide/interactions.html), \n",
    "but it means that you have more flexible interaction capabilities available to you."
   ]
  },
  {
   "cell_type": "code",
   "execution_count": null,
   "id": "90354ce0-0fa1-4074-bcb1-9e0f70bb7d0d",
   "metadata": {},
   "outputs": [],
   "source": [
    "scales = alt.selection_interval(bind=\"scales\")\n",
    "\n",
    "alt.Chart(sc_march_2020_df).mark_line().encode(\n",
    "    x=\"Date_Time:T\", y=\"Hourly_Counts:Q\"\n",
    ").properties(width=1000).add_selection(scales)"
   ]
  },
  {
   "cell_type": "markdown",
   "id": "c4457c53-e6e8-44ab-a27a-97648d26df99",
   "metadata": {},
   "source": [
    "## Reactive Interfaces\n",
    "\n",
    "See my talk on _Python Libraries for building Data Apps_: https://youtu.be/jI5zLf9Hvd8\n",
    "\n",
    "Wrapping up visualisation code into functions/classes help make more reusable.\n",
    "\n",
    "But still slow to interact with; not an ideal interface."
   ]
  },
  {
   "cell_type": "markdown",
   "id": "0269f7e1-b69a-4313-965a-85e3b6ca4611",
   "metadata": {},
   "source": [
    "<center>\n",
    "    <img src=\"/files/img/reactive.svg\" width=1000/>\n",
    "</center>"
   ]
  },
  {
   "cell_type": "markdown",
   "id": "2b7e779f-0fdc-4309-8481-54a11d2c3299",
   "metadata": {},
   "source": [
    "The rest of the libraries we will look at follow this fundamental pattern in some way. The main distinction is whether the code is run within the web client (in JavaScript), or whether it's run in a different process with Python.\n",
    "\n",
    "Local callbacks offer more responsivity and enable embedding the visualisation within a statically hosted HTML page, but are limited to working with smaller amounts of data.\n",
    "\n",
    "Python callbacks enable working with much larger datasets, and the full power of custom Python code to define callback logic, but require the relevant server process to be configured and run somewhere and will be less responsive than clientside callbacks, especially when the server process is running on a different machine to the client."
   ]
  },
  {
   "cell_type": "markdown",
   "id": "579e06cd-16bb-4d39-8e76-2c7e2673d0b8",
   "metadata": {},
   "source": [
    "## ipywidgets\n",
    "\n",
    "[ipywidgets](https://ipywidgets.readthedocs.io/en/latest/) is a library of interactive widgets that can be combined with other visualisation libraries to create interactive interfaces within Jupyter Notebooks."
   ]
  },
  {
   "cell_type": "markdown",
   "id": "74104c52-5694-4fff-84a6-650b9b5acb55",
   "metadata": {},
   "source": [
    "***\n",
    "<center>\n",
    "    <img src=\"/files/img/voila.svg\" width=1000/>\n",
    "</center>"
   ]
  },
  {
   "cell_type": "markdown",
   "id": "4efa8c13-961d-4806-ab82-33b8a4e45e38",
   "metadata": {},
   "source": [
    "Run from a terminal to launch the Voila demo notebook/dashboard:\n",
    "\n",
    "    $ voila demos/voila.ipynb"
   ]
  },
  {
   "cell_type": "markdown",
   "id": "b74d677d-7c86-4cb6-8be7-6b743ce94bd9",
   "metadata": {},
   "source": [
    "***\n",
    "<center>\n",
    "    <img src=\"/files/img/panel.svg\" width=900/>\n",
    "</center>"
   ]
  },
  {
   "cell_type": "markdown",
   "id": "5a360cad-0ba6-4667-aefc-67e90e44a409",
   "metadata": {},
   "source": [
    "***\n",
    "\n",
    "<center>\n",
    "    <img src=\"/files/img/dash.svg\" width=900/>\n",
    "</center>"
   ]
  },
  {
   "cell_type": "markdown",
   "id": "03aa115c-4ede-4713-91ac-63cb7b98158b",
   "metadata": {},
   "source": [
    "***\n",
    "\n",
    "<center>\n",
    "    <img src=\"/files/img/streamlit.svg\" width=1000/>\n",
    "</center>"
   ]
  },
  {
   "cell_type": "markdown",
   "id": "674f63d7-b112-4578-8038-661d20a2d432",
   "metadata": {},
   "source": [
    "## Deploying your Apps\n",
    "\n",
    "Altair can be deployed statically.\n",
    "\n",
    "The rest require you to run your app somewhere.\n",
    "\n",
    "* Your own server\n",
    "* A hosted virtual machine: eg AWS EC2, Digital Ocean, Heroku\n",
    "* Serverless cloud services:\n",
    "  * AWS: Elastic Beanstalk, Fargate, Lambda\n",
    "  * GCP: App Engine, Cloud Run\n"
   ]
  },
  {
   "cell_type": "markdown",
   "id": "6e9bfc9c-1807-4bb5-b3be-14849464b926",
   "metadata": {},
   "source": [
    "***\n",
    "<br>\n",
    "<center>\n",
    "    <img src=\"/files/img/python_viz_libs.svg\" width=1000/>\n",
    "</center>"
   ]
  },
  {
   "cell_type": "markdown",
   "id": "391006f2-ba40-4cbb-b16a-a9985bbaa7f9",
   "metadata": {},
   "source": [
    "## Suggestions for choosing a library\n",
    "\n",
    "### For general visualisation\n",
    "* **Matplotlib** is good for bespoke static visualisations \n",
    "* **Seaborn** is good for building more statistically-oriented static plots\n",
    "* **Pandas** (with Matplotlib) is great for rapid exploratory analysis\n",
    "* **Altair** has a delightful AP and is good all-round library if your dataset is not too big, and can be embedded into static plots\n",
    "* **HoloViews** is a powerful abstraction API that can target all of: Matplotlib, Bokeh, and Plotly \n",
    "* *Plotly* offers a rich ecosystem: Plotly Express is consise way to rapidly build advanced plots, and has useful ability to extend easily to Dash apps. \n",
    "\n",
    "\n",
    "### Getting the right level of abstraction\n",
    "* Unless needed, avoid working primarily with the lower-level Matplotlib, Bokeh, or Plotly, libraries\n",
    "* Instead use one of the high-level libraries for better productivity.\n",
    "* However being familiar with the lower level API is important, customising plots producted by high-level libraries is an effective pattern.\n",
    "\n",
    "\n",
    "### Interactive apps\n",
    "* **ipywidgets** is a flexible tool that can be combined with all the libraries mentioned here to make them reactive\n",
    "* **Voila** lets you easily deploy your ipywidgets-based notebooks as dashboards\n",
    "* **Panel** works well if you have a heavy oriented workflow and want a balance of customisability with preconfigured styling.\n",
    "* **Dash** gives you the ability to make scalable and heavily customisable web apps (best option for deployment to larger user base), but required more effort to visually style.\n",
    "* **Streamlit** Good for rapidly building custom data tools without having to worry about layout or aesthetics\n",
    "\n",
    " \n",
    "One library won't always be right; have more than one tool in your toolkit. Tryout different libraries and see which ones feel good."
   ]
  },
  {
   "cell_type": "markdown",
   "id": "c9fa5a64-50e0-4533-a050-fb183627d025",
   "metadata": {},
   "source": [
    "## Data Viz Hot Tips\n",
    "\n",
    "* Try to use high-level visualisation libraries where possible  \n",
    "* _Always_ title and label your plots\n",
    "* Abstract code to produce distinct visualisations into functions\n",
    "* If you use the functions, across more than one notebook, move them into a custom Python package."
   ]
  }
 ],
 "metadata": {
  "kernelspec": {
   "display_name": "Python 3 (ipykernel)",
   "language": "python",
   "name": "python3"
  },
  "language_info": {
   "codemirror_mode": {
    "name": "ipython",
    "version": 3
   },
   "file_extension": ".py",
   "mimetype": "text/x-python",
   "name": "python",
   "nbconvert_exporter": "python",
   "pygments_lexer": "ipython3",
   "version": "3.10.4"
  }
 },
 "nbformat": 4,
 "nbformat_minor": 5
}
