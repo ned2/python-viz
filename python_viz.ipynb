{
 "cells": [
  {
   "cell_type": "code",
   "execution_count": null,
   "id": "f39ce625-38d9-4b62-ac5e-1bd29983dd43",
   "metadata": {},
   "outputs": [],
   "source": [
    "%load_ext autoreload\n",
    "%autoreload 2"
   ]
  },
  {
   "cell_type": "markdown",
   "id": "21dee720-449e-43e4-9b9c-1118e75e3f12",
   "metadata": {},
   "source": [
    "Data\n",
    "\n",
    "https://www.abs.gov.au/statistics/labour/earnings-and-work-hours/weekly-payroll-jobs-and-wages-australia/week-ending-27-march-2021#data-download\n",
    "\n",
    "https://www.abs.gov.au/statistics/labour/earnings-and-work-hours/weekly-payroll-jobs-and-wages-australia/week-ending-27-march-2021/6160055001_DO005.xlsx\n"
   ]
  },
  {
   "cell_type": "code",
   "execution_count": null,
   "id": "51f6166c-f8f0-4487-8cd4-9611b8b3087b",
   "metadata": {},
   "outputs": [],
   "source": [
    "import pandas as pd\n",
    "\n",
    "# note that this requires the openpyxl package to be installed\n",
    "df = pd.read_excel(\"data/6160055001_DO005.xlsx\", sheet_name=1)\n",
    "df.shape"
   ]
  },
  {
   "cell_type": "code",
   "execution_count": null,
   "id": "72e209cf-4f16-4aa0-84ff-381cee1d163d",
   "metadata": {},
   "outputs": [],
   "source": [
    "df.head()"
   ]
  },
  {
   "cell_type": "code",
   "execution_count": null,
   "id": "3e7d706a-ec0c-436a-a48b-ad6f615609e4",
   "metadata": {},
   "outputs": [],
   "source": [
    "import dtale\n",
    "\n",
    "dtale.show(df)"
   ]
  },
  {
   "cell_type": "code",
   "execution_count": null,
   "id": "8f11ff51-8474-4840-8cb1-1cf757290224",
   "metadata": {},
   "outputs": [],
   "source": [
    "jobs_raw_df = pd.read_excel(\n",
    "    \"data/6160055001_DO005.xlsx\",\n",
    "    sheet_name=1,  # zero-indexed, so this is the second sheet!\n",
    "    usecols=\"A:BO\",\n",
    "    skiprows=5,\n",
    "    skipfooter=2,\n",
    ")\n",
    "\n",
    "jobs_raw_df.head()"
   ]
  },
  {
   "cell_type": "code",
   "execution_count": null,
   "id": "7fe9b68c-9d35-4626-bd10-ab825d0b8f70",
   "metadata": {},
   "outputs": [],
   "source": [
    "date_cols_df = jobs_raw_df.iloc[:, 2:]\n",
    "\n",
    "ste_cols_df = (\n",
    "    jobs_raw_df[jobs_raw_df.columns[0]]\n",
    "    .str.split(r\"\\. \", expand=True)\n",
    "    .rename(columns={0: \"STE_CODE16\", 1: \"STE_NAME16\"})\n",
    ")\n",
    "\n",
    "sa4_cols_df = (\n",
    "    jobs_raw_df[jobs_raw_df.columns[1]]\n",
    "    .str.split(r\"\\. \", expand=True)\n",
    "    .rename(columns={0: \"SA4_CODE16\", 1: \"SA4_NAME16\"})\n",
    ")\n",
    "\n",
    "jobs_df = pd.concat([ste_cols_df, sa4_cols_df, date_cols_df], axis=1).melt(\n",
    "    id_vars=[\"STE_CODE16\", \"STE_NAME16\", \"SA4_CODE16\", \"SA4_NAME16\"],\n",
    "    var_name=\"Date\",\n",
    "    value_name=\"Index\",\n",
    ")\n",
    "\n",
    "jobs_df"
   ]
  },
  {
   "cell_type": "code",
   "execution_count": null,
   "id": "b5635900-6a11-4b26-bf81-3225f0926d69",
   "metadata": {},
   "outputs": [],
   "source": [
    "jobs_df.dtypes"
   ]
  },
  {
   "cell_type": "code",
   "execution_count": null,
   "id": "56b4c317-6382-46f5-a697-c97379792351",
   "metadata": {},
   "outputs": [],
   "source": [
    "states_jobs = jobs_df.groupby([\"STE_NAME16\", \"Date\"])[\"Index\"].mean()\n",
    "states_jobs"
   ]
  },
  {
   "cell_type": "code",
   "execution_count": null,
   "id": "aa7f071b-12df-4fac-b097-46e0d61e598a",
   "metadata": {},
   "outputs": [],
   "source": [
    "country_jobs = states_jobs.mean(level=\"Date\")\n",
    "country_jobs"
   ]
  },
  {
   "cell_type": "markdown",
   "id": "68f9c4ee-835a-44a0-9c29-d343805652e4",
   "metadata": {},
   "source": [
    "## Visualising with Pandas/Matplotlib"
   ]
  },
  {
   "cell_type": "code",
   "execution_count": null,
   "id": "2c44c9c0-b9d7-47c7-8087-8031ceb4a504",
   "metadata": {},
   "outputs": [],
   "source": [
    "# convert to DataFrame for easier plotting\n",
    "\n",
    "country_jobs_df = country_jobs.reset_index()\n",
    "country_jobs_df"
   ]
  },
  {
   "cell_type": "markdown",
   "id": "9a8f664e-5bb7-4a89-a791-3e7aeba203e7",
   "metadata": {},
   "source": [
    "### Use Pandas' API to make Matplotlib plot"
   ]
  },
  {
   "cell_type": "code",
   "execution_count": null,
   "id": "f2388654-e712-48ad-8f2d-812be39fa6d2",
   "metadata": {},
   "outputs": [],
   "source": [
    "%matplotlib inline\n",
    "\n",
    "country_jobs_df.plot(\n",
    "    x=\"Date\", y=\"Index\", title=\"Weekly Payroll Jobs and Wages Index\"\n",
    ");"
   ]
  },
  {
   "cell_type": "markdown",
   "id": "5deb12ac-adb5-4036-9d3c-b4eddb2d849d",
   "metadata": {},
   "source": [
    "### Improving Aesthetics of Matplotlib plots\n",
    "\n",
    "**Option 1: use a theme**"
   ]
  },
  {
   "cell_type": "code",
   "execution_count": null,
   "id": "4ccef9df-c35d-49da-b995-3d54d19d8916",
   "metadata": {},
   "outputs": [],
   "source": [
    "import matplotlib.pyplot as plt\n",
    "\n",
    "plt.style.available"
   ]
  },
  {
   "cell_type": "code",
   "execution_count": null,
   "id": "78b76db8-ae9f-46a0-b2d0-e9b46b2a5a2f",
   "metadata": {},
   "outputs": [],
   "source": [
    "plt.style.use(\"ggplot\")\n",
    "\n",
    "country_jobs_df.plot(\n",
    "    x=\"Date\", y=\"Index\", title=\"Weekly Payroll Jobs and Wages Index\"\n",
    ");"
   ]
  },
  {
   "cell_type": "markdown",
   "id": "6083e7e6-3078-492e-96d6-edb6e97fdaf6",
   "metadata": {},
   "source": [
    "**Technique 2: Increase the DPI**\n"
   ]
  },
  {
   "cell_type": "code",
   "execution_count": null,
   "id": "8160bc4a-1a9f-4518-9945-b7db0a639517",
   "metadata": {},
   "outputs": [],
   "source": [
    "fig = plt.figure(dpi=300, figsize=(15, 5))\n",
    "\n",
    "country_jobs_df.plot(\n",
    "    x=\"Date\", y=\"Index\", ax=plt.gca(), title=\"Weekly Payroll Jobs and Wages Index\"\n",
    ");"
   ]
  },
  {
   "cell_type": "markdown",
   "id": "81928236-cd19-4604-a95d-370367850cc0",
   "metadata": {},
   "source": [
    "### Use ipympl Widget for interactivity\n",
    "\n",
    "_Note: this requires the ipympl package to be installed_\n",
    "\n",
    "Let's plot the Index of all states. "
   ]
  },
  {
   "cell_type": "code",
   "execution_count": null,
   "id": "1b3cf2d9-9d11-4089-bfdf-a786d6db884e",
   "metadata": {},
   "outputs": [],
   "source": [
    "%matplotlib widget\n",
    "\n",
    "# to easily plot this with Pandas, first need to get it into wide format\n",
    "\n",
    "states_jobs.unstack(level=0).plot(\n",
    "    figsize=(15, 5), title=\"Weekly Payroll Jobs and Wages Index by State\"\n",
    ");"
   ]
  },
  {
   "cell_type": "markdown",
   "id": "5a86ebc1-9fc1-4d97-9edb-1776d31e5422",
   "metadata": {},
   "source": [
    "What if our data was in long (tidy) format?"
   ]
  },
  {
   "cell_type": "code",
   "execution_count": null,
   "id": "e7283214-1688-49f1-bc26-dfb6f726be94",
   "metadata": {},
   "outputs": [],
   "source": [
    "states_jobs_df = states_jobs.reset_index()\n",
    "states_jobs_df"
   ]
  },
  {
   "cell_type": "markdown",
   "id": "b63cddd3-c5eb-4b54-8684-ea3051288b52",
   "metadata": {},
   "source": [
    "## Other plotting Options\n",
    "\n",
    "**Seaborn**"
   ]
  },
  {
   "cell_type": "code",
   "execution_count": null,
   "id": "6699081c-d691-4a0a-b375-7259c71a95fb",
   "metadata": {},
   "outputs": [],
   "source": [
    "%matplotlib widget\n",
    "import seaborn as sns\n",
    "\n",
    "plt.figure(figsize=(13, 6))\n",
    "\n",
    "sns.lineplot(\n",
    "    data=states_jobs_df,\n",
    "    x=\"Date\",\n",
    "    y=\"Index\",\n",
    "    hue=\"STE_NAME16\",\n",
    ").set(title=\"Weekly Payroll Jobs and Wages Index by State\");"
   ]
  },
  {
   "cell_type": "markdown",
   "id": "ea3d8c9e-7daa-4cf9-abe2-1820595f8723",
   "metadata": {},
   "source": [
    "**Plotly**"
   ]
  },
  {
   "cell_type": "code",
   "execution_count": null,
   "id": "1b0d864b-c4d4-4b62-b714-5c9c431512fa",
   "metadata": {},
   "outputs": [],
   "source": [
    "import plotly.express as px\n",
    "\n",
    "px.line(\n",
    "    states_jobs_df,\n",
    "    x=\"Date\",\n",
    "    y=\"Index\",\n",
    "    color=\"STE_NAME16\",\n",
    "    title=\"Weekly Payroll Jobs and Wages Index by State\",\n",
    "    width=1200,\n",
    "    height=500\n",
    ")"
   ]
  },
  {
   "cell_type": "markdown",
   "id": "2eb6c627-0082-4c75-b8aa-810937637cc8",
   "metadata": {},
   "source": [
    "Also consider **Holoviews** and **Altair**"
   ]
  },
  {
   "cell_type": "markdown",
   "id": "28197f94-f886-4ae1-b1de-d23a12536a43",
   "metadata": {},
   "source": [
    "### Adding Country-level mean"
   ]
  },
  {
   "cell_type": "code",
   "execution_count": null,
   "id": "5c0a1856-fa90-4b7b-8707-7e9c4c1b3e94",
   "metadata": {},
   "outputs": [],
   "source": [
    "states_and_country_df = pd.concat(\n",
    "    [states_jobs_df, country_jobs_df.assign(STE_NAME16=\"AUS\")]\n",
    ")\n",
    "state_names = list(states_jobs_df[\"STE_NAME16\"].unique())\n",
    "\n",
    "px.line(\n",
    "    states_and_country_df,\n",
    "    x=\"Date\",\n",
    "    y=\"Index\",\n",
    "    color=\"STE_NAME16\",\n",
    "    title=\"Weekly Payroll Jobs and Wages Index by State\",\n",
    "    color_discrete_map={\"AUS\": \"black\"},\n",
    "    category_orders={\"STE_NAME16\": [\"AUS\"] + state_names},\n",
    "    line_dash=\"STE_NAME16\",\n",
    "    line_dash_sequence=[\"dot\"] + [\"solid\" for _state in state_names],\n",
    "    width=1200,\n",
    "    height=500\n",
    ")"
   ]
  },
  {
   "cell_type": "markdown",
   "id": "d41ce9ee-5250-4323-9f25-15d643a0712c",
   "metadata": {},
   "source": [
    "## Spatial Visualisation"
   ]
  },
  {
   "cell_type": "code",
   "execution_count": null,
   "id": "a51e10ba-a9b0-4119-bbcf-8a6f2de883dd",
   "metadata": {},
   "outputs": [],
   "source": [
    "import geopandas as gpd\n",
    "\n",
    "gdf = gpd.read_file(\"data/sa4_2016_aust_shape/SA4_2016_AUST.shp\")\n",
    "\n",
    "gdf"
   ]
  },
  {
   "cell_type": "code",
   "execution_count": null,
   "id": "97fb1c17-5a3c-41a2-b46b-d8dc8ff4f65c",
   "metadata": {},
   "outputs": [],
   "source": [
    "import contextily as cx\n",
    "\n",
    "\n",
    "def plot_wage_chloropleth(sa4_gdf, jobs_df, date):\n",
    "    \"\"\"Plot a chloropleth map of jobs Index for a given date\"\"\"\n",
    "    # filter index data to current month and then join with geo data\n",
    "    sa4_gdf = sa4_gdf[~sa4_gdf[\"geometry\"].isnull()]\n",
    "    filtered_df = jobs_df[jobs_df[\"Date\"] == date][[\"SA4_CODE16\", \"Index\"]]\n",
    "    sa4_gdf = sa4_gdf.merge(filtered_df, on=\"SA4_CODE16\", validate=\"one_to_one\")\n",
    "\n",
    "    fig, ax = plt.subplots()\n",
    "    sa4_gdf.plot(\n",
    "        ax=ax,\n",
    "        edgecolor=\"black\",\n",
    "        column=\"Index\",\n",
    "        vmin=jobs_df[\"Index\"].min(),\n",
    "        vmax=jobs_df[\"Index\"].max(),\n",
    "    ).set(title=\"Australian Jobs and Wages Index\")\n",
    "\n",
    "    cx.add_basemap(ax, crs=gdf.crs.to_string(), source=cx.providers.CartoDB.Voyager)\n",
    "    ax.axis(\"off\")\n",
    "\n",
    "\n",
    "plot_wage_chloropleth(gdf, jobs_df, \"2020-01-04\")"
   ]
  },
  {
   "cell_type": "code",
   "execution_count": null,
   "id": "704fc654-ec3b-4b94-91c9-f14a69267f58",
   "metadata": {
    "tags": []
   },
   "outputs": [],
   "source": [
    "import folium\n",
    "\n",
    "# to get working properly\n",
    "# use folium.GeoJson class with highlight_function callback that accesses the colormap\n",
    "# import branca.colormap as cm\n",
    "# colormap = cm.linear.YlGnBu_09.to_step(n=6, data=jobs_df[\"Index\"])\n",
    "\n",
    "def plot_wage_chloropleth_folium(sa4_gdf, jobs_df, date):\n",
    "    \"\"\"Plot a chloropleth map of jobs Index for a given date\"\"\"\n",
    "    sa4_gdf = sa4_gdf[~sa4_gdf[\"geometry\"].isnull()]\n",
    "    filtered_df = jobs_df[jobs_df[\"Date\"] == date][[\"SA4_NAME16\", \"Index\"]]\n",
    "\n",
    "    folium_map = folium.Map(location=[-22, 133], zoom_start=5)\n",
    "    folium.LayerControl().add_to(folium_map)\n",
    "    \n",
    "    choropleth = folium.Choropleth(\n",
    "        geo_data=sa4_gdf,\n",
    "        data=filtered_df,\n",
    "        columns=[\"SA4_NAME16\", \"Index\"],\n",
    "        key_on=\"feature.properties.SA4_NAME16\",\n",
    "        fill_color=\"YlGn\",\n",
    "        fill_opacity=0.7,\n",
    "        line_opacity=0.2,\n",
    "        legend_name=\"Wage Index\",\n",
    "        highlight=True,\n",
    "    )\n",
    "    choropleth.geojson.add_child(folium.features.GeoJsonTooltip(['SA4_NAME16'], labels=False))\n",
    "    choropleth.add_to(folium_map)\n",
    "    return folium_map\n",
    "\n",
    "\n",
    "plot_wage_chloropleth_folium(gdf, jobs_df, \"2020-01-04\")"
   ]
  },
  {
   "cell_type": "code",
   "execution_count": null,
   "id": "1372ee17-b3d4-48c0-862a-ada56c0c1777",
   "metadata": {},
   "outputs": [],
   "source": []
  }
 ],
 "metadata": {
  "kernelspec": {
   "display_name": "Python 3",
   "language": "python",
   "name": "python3"
  },
  "language_info": {
   "codemirror_mode": {
    "name": "ipython",
    "version": 3
   },
   "file_extension": ".py",
   "mimetype": "text/x-python",
   "name": "python",
   "nbconvert_exporter": "python",
   "pygments_lexer": "ipython3",
   "version": "3.9.5"
  }
 },
 "nbformat": 4,
 "nbformat_minor": 5
}
