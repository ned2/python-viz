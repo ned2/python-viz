{
 "cells": [
  {
   "cell_type": "markdown",
   "id": "c20ae69b-351b-40a9-939b-e371505f85b8",
   "metadata": {
    "tags": []
   },
   "source": [
    "# Doing Spatial viz in Python"
   ]
  },
  {
   "cell_type": "code",
   "execution_count": null,
   "id": "20694560-c0f0-4e3f-a2a7-db98e141e74b",
   "metadata": {},
   "outputs": [],
   "source": [
    "%load_ext autoreload\n",
    "%autoreload 2"
   ]
  },
  {
   "cell_type": "markdown",
   "id": "456f17ae-8e1e-41fe-b385-16e6ea7b899a",
   "metadata": {
    "tags": []
   },
   "source": [
    "## Data: Weekly Payroll Jobs and Wages in Australia\n",
    "\n",
    "Data provided by the Australian Bureau of Statistics pertaining to weekly numbers of jobs with payroll data. This is based on the Australian Tax Office's single touch payroll data, which is how most businesses report salaries and wages, pay as you go (PAYG) withholding, and superannuation.\n",
    "\n",
    "[Weekly Jobs and Wages Index for Week ending 21/03/2021.](https://www.abs.gov.au/statistics/labour/earnings-and-work-hours/weekly-payroll-jobs-and-wages-australia/week-ending-27-march-2021#data-download)\n",
    "\n",
    "\n",
    "[Excel file used -- Table 5: Sub-state - Payroll jobs indexes](https://www.abs.gov.au/statistics/labour/earnings-and-work-hours/weekly-payroll-jobs-and-wages-australia/week-ending-27-march-2021/6160055001_DO005.xlsx)"
   ]
  },
  {
   "cell_type": "code",
   "execution_count": null,
   "id": "b38f5f84-96d6-49eb-a805-e362af50024b",
   "metadata": {},
   "outputs": [],
   "source": [
    "import pandas as pd\n",
    "\n",
    "# note this requires the openpyxl package\n",
    "df = pd.read_excel(\"data/6160055001_DO005.xlsx\", sheet_name=1)\n",
    "df.head()"
   ]
  },
  {
   "cell_type": "code",
   "execution_count": null,
   "id": "d59e53c8-5d4e-42e2-8e73-e37d18cb2399",
   "metadata": {},
   "outputs": [],
   "source": [
    "import dtale\n",
    "\n",
    "dtale.show(df)"
   ]
  },
  {
   "cell_type": "code",
   "execution_count": null,
   "id": "a4ce74c8-8806-4270-85f5-2f295f789ae2",
   "metadata": {},
   "outputs": [],
   "source": [
    "from utils.aus_jobs import clean_and_load_jobs_data\n",
    "\n",
    "jobs_df = clean_and_load_jobs_data(\"data/6160055001_DO005.xlsx\")\n",
    "jobs_df.head()"
   ]
  },
  {
   "cell_type": "code",
   "execution_count": null,
   "id": "1c6581ec-e81c-48cb-b328-177874127717",
   "metadata": {},
   "outputs": [],
   "source": [
    "states_jobs = jobs_df.groupby([\"STE_NAME16\", \"Date\"])[\"Index\"].mean()\n",
    "states_jobs_df = states_jobs.reset_index()\n",
    "country_jobs_df = states_jobs.mean(level=\"Date\").reset_index()"
   ]
  },
  {
   "cell_type": "code",
   "execution_count": null,
   "id": "08be9427-1308-420a-9f0b-1e06c1e07859",
   "metadata": {},
   "outputs": [],
   "source": [
    "country_jobs_df"
   ]
  },
  {
   "cell_type": "code",
   "execution_count": null,
   "id": "248d2263-8605-4600-90e8-6cf24c175310",
   "metadata": {},
   "outputs": [],
   "source": [
    "states_jobs_df"
   ]
  },
  {
   "cell_type": "code",
   "execution_count": null,
   "id": "7f384f58-4572-4c53-be52-561b572b6912",
   "metadata": {},
   "outputs": [],
   "source": [
    "import plotly.express as px\n",
    "\n",
    "px.line(\n",
    "    country_jobs_df,\n",
    "    x=\"Date\",\n",
    "    y=\"Index\",\n",
    "    title=\"Weekly Payroll Jobs and Wages Index\",\n",
    "    width=1200,\n",
    "    height=500,\n",
    ")"
   ]
  },
  {
   "cell_type": "code",
   "execution_count": null,
   "id": "69fbb527-f2e4-4a51-bdc4-4f5c3509662a",
   "metadata": {},
   "outputs": [],
   "source": [
    "px.line(\n",
    "    states_jobs_df,\n",
    "    x=\"Date\",\n",
    "    y=\"Index\",\n",
    "    color=\"STE_NAME16\",\n",
    "    title=\"Weekly Payroll Jobs and Wages Index by State\",\n",
    "    width=1200,\n",
    "    height=500,\n",
    ")"
   ]
  },
  {
   "cell_type": "code",
   "execution_count": null,
   "id": "1591489b-d890-488a-a2ed-3f240a262cf2",
   "metadata": {},
   "outputs": [],
   "source": [
    "states_and_country_df = pd.concat(\n",
    "    [states_jobs_df, country_jobs_df.assign(STE_NAME16=\"AUS\")]\n",
    ")\n",
    "state_names = list(states_jobs_df[\"STE_NAME16\"].unique())\n",
    "\n",
    "px.line(\n",
    "    states_and_country_df,\n",
    "    x=\"Date\",\n",
    "    y=\"Index\",\n",
    "    color=\"STE_NAME16\",\n",
    "    title=\"Weekly Payroll Jobs and Wages Index by State\",\n",
    "    color_discrete_map={\"AUS\": \"black\"},\n",
    "    category_orders={\"STE_NAME16\": [\"AUS\"] + state_names},\n",
    "    line_dash=\"STE_NAME16\",\n",
    "    line_dash_sequence=[\"dot\"] + [\"solid\" for _state in state_names],\n",
    "    width=1200,\n",
    "    height=500,\n",
    ")"
   ]
  },
  {
   "cell_type": "markdown",
   "id": "a6775231-110f-4e61-a664-97c546d9fa50",
   "metadata": {},
   "source": [
    "## Spatial Visualisations\n",
    "\n",
    "For this section, w'll need the Australian, Statistical Area Level 4 shape file, from [here](https://www.abs.gov.au/AUSSTATS/subscriber.nsf/log?openagent&1270055001_sa4_2016_aust_shape.zip&1270.0.55.001&Data%20Cubes&C65BC89E549D1CA3CA257FED0013E074&0&July%202016&12.07.2016&Latest)."
   ]
  },
  {
   "cell_type": "code",
   "execution_count": null,
   "id": "be5482bb-2372-42ed-95a7-3f69088ed718",
   "metadata": {},
   "outputs": [],
   "source": [
    "import geopandas as gpd\n",
    "\n",
    "sa4_gdf = gpd.read_file(\"data/sa4_2016_aust_shape/SA4_2016_AUST.shp\")\n",
    "sa4_gdf"
   ]
  },
  {
   "cell_type": "markdown",
   "id": "e8c9b82d-9c95-4280-b5e5-eca8e2d099cd",
   "metadata": {},
   "source": [
    "## Libraries with Good GeoPandas support\n",
    "\n",
    "Let's try to make a choropleth (spatial heat map) of wage data with a few different libraries.\n"
   ]
  },
  {
   "cell_type": "code",
   "execution_count": null,
   "id": "ded8e767-692e-44dc-aab3-f400b6f3bef6",
   "metadata": {},
   "outputs": [],
   "source": [
    "# utility function we'll need\n",
    "\n",
    "def filter_and_merge_wage_data(sa4_gdf, jobs_df, date):\n",
    "    \"\"\"Filter to date and merge SA4 region data with wage data\"\"\"\n",
    "    sa4_gdf = sa4_gdf[~sa4_gdf[\"geometry\"].isnull()][[\"SA4_CODE16\", \"geometry\"]]\n",
    "    filtered_df = jobs_df[jobs_df[\"Date\"] == date]\n",
    "    return sa4_gdf.merge(\n",
    "        filtered_df,\n",
    "        on=\"SA4_CODE16\",\n",
    "        validate=\"one_to_one\",\n",
    "    )\n",
    "\n",
    "filter_and_merge_wage_data(sa4_gdf, jobs_df, \"2020-01-11\")"
   ]
  },
  {
   "cell_type": "markdown",
   "id": "98c1e568-cfce-4d9e-a264-7ca36688231e",
   "metadata": {},
   "source": [
    "### GeoPandas & Matplotlib \n",
    "\n",
    "Like Pandas, Geopandas can produce plots using Matplotlib.\n"
   ]
  },
  {
   "cell_type": "code",
   "execution_count": null,
   "id": "0e9ca7fe-dfc9-4e32-b221-0fd4664657e1",
   "metadata": {},
   "outputs": [],
   "source": [
    "%matplotlib widget\n",
    "\n",
    "import contextily as cx\n",
    "import matplotlib.pyplot as plt\n",
    "\n",
    "\n",
    "def plot_wage_chloropleth_mpl(sa4_gdf, jobs_df, date):\n",
    "    \"\"\"Plot a chloropleth map of jobs Index for a given date\"\"\"\n",
    "    new_gdf = filter_and_merge_wage_data(sa4_gdf, jobs_df, date)\n",
    "    fig, ax = plt.subplots()\n",
    "   \n",
    "    new_gdf.plot(\n",
    "        ax=ax,\n",
    "        edgecolor=\"black\",\n",
    "        column=\"Index\",\n",
    "        vmin=new_gdf[\"Index\"].min(),\n",
    "        vmax=new_gdf[\"Index\"].max(),\n",
    "        legend=True,\n",
    "    ).set(title=f\"Australian Jobs and Wages Index, {date}\")\n",
    "\n",
    "    # set the basemap tiles with contexily\n",
    "    cx.add_basemap(ax, crs=new_gdf.crs.to_string(), source=cx.providers.CartoDB.Voyager)\n",
    "    ax.axis(\"off\")\n",
    "    plt.show()\n",
    "\n",
    "\n",
    "plot_wage_chloropleth_mpl(sa4_gdf, jobs_df, \"2020-01-11\")"
   ]
  },
  {
   "cell_type": "markdown",
   "id": "9f10beda-a1ec-48c3-82da-3cdbd528c623",
   "metadata": {},
   "source": [
    "We can use ipywidgets to make a simple UI to select months:"
   ]
  },
  {
   "cell_type": "code",
   "execution_count": null,
   "id": "01d09857-65c8-4572-98d0-5e1453f37bc0",
   "metadata": {},
   "outputs": [],
   "source": [
    "from ipywidgets import interact\n",
    "\n",
    "date_dropdowns = sorted(set(str(timestamp.date()) for timestamp in jobs_df[\"Date\"]))\n",
    "\n",
    "@interact(date=date_dropdowns)\n",
    "def interactive_wages(date):\n",
    "    plot_wage_chloropleth_mpl(sa4_gdf, jobs_df, date)"
   ]
  },
  {
   "cell_type": "markdown",
   "id": "79cd0c53-b559-4300-9fa0-d86aa48a6778",
   "metadata": {},
   "source": [
    "### Choropleth with GeoPandas & GeoPlot"
   ]
  },
  {
   "cell_type": "code",
   "execution_count": null,
   "id": "e8653c35-2541-4f10-8d78-8fec01305763",
   "metadata": {},
   "outputs": [],
   "source": [
    "import contextily as cx\n",
    "import geoplot as gplt\n",
    "\n",
    "\n",
    "def plot_wage_chloropleth_geoplot(sa4_gdf, jobs_df, date):\n",
    "    new_gdf = filter_and_merge_wage_data(sa4_gdf, jobs_df, date)\n",
    "\n",
    "    geo_ax = gplt.choropleth(new_gdf, hue=\"Index\", legend=True, linewidth=0.7)\n",
    "\n",
    "    cx.add_basemap(\n",
    "        geo_ax, crs=new_gdf.crs.to_string(), source=cx.providers.CartoDB.Voyager\n",
    "    )\n",
    "    plt.title(f\"Australian Jobs and Wages Index, {date}\")\n",
    "    plt.show(geo_ax)\n",
    "\n",
    "\n",
    "@interact(date=date_dropdowns)\n",
    "def interactive_wages(date):\n",
    "    plot_wage_chloropleth_geoplot(sa4_gdf, jobs_df, date)"
   ]
  },
  {
   "cell_type": "markdown",
   "id": "ef7a12e7-868f-4d76-97cf-0eb3b3e23a08",
   "metadata": {},
   "source": [
    "### GeoPandas & GeoViews\n",
    "\n",
    "Very slow :("
   ]
  },
  {
   "cell_type": "code",
   "execution_count": null,
   "id": "7029d78f-28a4-4f6e-9264-633175b7cbba",
   "metadata": {},
   "outputs": [],
   "source": [
    "import geoviews as gv\n",
    "\n",
    "gv.extension(\"bokeh\")\n",
    "\n",
    "def plot_wage_chloropleth_geoviews(sa4_gdf, jobs_df, date):\n",
    "    new_gdf = filter_and_merge_wage_data(sa4_gdf, jobs_df, date)\n",
    "    return gv.Polygons(\n",
    "        new_gdf,\n",
    "        vdims=[\"Index\"],\n",
    "        label=f\"Australian Jobs and Wages Index, {date}\",\n",
    "    ).opts(\n",
    "        width=800,\n",
    "        height=600,\n",
    "        color=\"Index\",\n",
    "        colorbar=True,\n",
    "    )\n",
    "\n",
    "\n",
    "plot_wage_chloropleth_geoviews(sa4_gdf, jobs_df, \"2020-01-11\")"
   ]
  },
  {
   "cell_type": "markdown",
   "id": "cd20afdb-d857-4e01-8da6-44157fe363dc",
   "metadata": {},
   "source": [
    "### GeoPandas & GeoViews\n",
    "\n",
    "Very slow :("
   ]
  },
  {
   "cell_type": "code",
   "execution_count": null,
   "id": "4e01c523-6120-4fe1-bbe7-ef3b9d4ac70c",
   "metadata": {},
   "outputs": [],
   "source": [
    "import hvplot.pandas\n",
    "\n",
    "\n",
    "def plot_wage_chloropleth_hvplot(sa4_gdf, jobs_df, date):\n",
    "    new_gdf = filter_and_merge_wage_data(sa4_gdf, jobs_df, date)\n",
    "    return new_gdf.hvplot(geo=True, c=\"Index\")\n",
    "\n",
    "    \n",
    "plot_wage_chloropleth_hvplot(sa4_gdf, jobs_df, \"2020-01-04\")"
   ]
  },
  {
   "cell_type": "markdown",
   "id": "410801c6-1147-4407-aad3-aaec96fa26ca",
   "metadata": {},
   "source": [
    "### GeoPandas & Folium"
   ]
  },
  {
   "cell_type": "code",
   "execution_count": null,
   "id": "b6101059-d42b-44a4-a27b-301a789faf69",
   "metadata": {},
   "outputs": [],
   "source": [
    "import folium\n",
    "\n",
    "\n",
    "def plot_wage_chloropleth_folium(sa4_gdf, jobs_df, date):\n",
    "    \"\"\"Plot a chloropleth map of jobs Index for a given date\"\"\"\n",
    "    # remove records with empty geometry, and filter data to current month\n",
    "    sa4_gdf = sa4_gdf[~sa4_gdf[\"geometry\"].isnull()]\n",
    "    filtered_df = jobs_df[jobs_df[\"Date\"] == date]\n",
    "\n",
    "    folium_map = folium.Map(location=[-22, 133], zoom_start=5)\n",
    "\n",
    "    choropleth = folium.Choropleth(\n",
    "        geo_data=sa4_gdf,\n",
    "        data=filtered_df,\n",
    "        columns=[\"SA4_NAME16\", \"Index\"],\n",
    "        key_on=\"feature.properties.SA4_NAME16\",\n",
    "        fill_color=\"YlGn\",\n",
    "        fill_opacity=0.7,\n",
    "        line_opacity=0.2,\n",
    "        legend_name=\"Wage Index\",\n",
    "        highlight=True,\n",
    "    )\n",
    "    choropleth.geojson.add_child(\n",
    "        folium.features.GeoJsonTooltip([\"SA4_NAME16\"], labels=False)\n",
    "    )\n",
    "    choropleth.add_to(folium_map)\n",
    "    folium.LayerControl().add_to(folium_map)\n",
    "    return folium_map\n",
    "\n",
    "\n",
    "plot_wage_chloropleth_folium(sa4_gdf, jobs_df, \"2020-01-04\")"
   ]
  },
  {
   "cell_type": "markdown",
   "id": "4397f87b-a10b-467e-8028-317d739cfc51",
   "metadata": {},
   "source": [
    "### GeoPandas & Ipyleaflet \n",
    "\n",
    "Supports GeoPandas for drawing polygons, but not for Choropleth :("
   ]
  },
  {
   "cell_type": "code",
   "execution_count": null,
   "id": "64703c90-fc51-476e-8ab2-70399ae6c1b2",
   "metadata": {},
   "outputs": [],
   "source": [
    "from ipyleaflet import Choropleth, GeoData, Map, basemaps\n",
    "from ipywidgets import Layout\n",
    "\n",
    "py_map = Map(\n",
    "    center=(-25.6091, 134.3619),\n",
    "    zoom=3,\n",
    "    basemap=basemaps.Esri.WorldTopoMap,\n",
    "    scroll_wheel_zoom=True,\n",
    "    layout=Layout(height=\"500px\"),\n",
    ")\n",
    "sa4_layer = GeoData(geo_dataframe=sa4_gdf)\n",
    "py_map.add_layer(sa4_layer)\n",
    "py_map"
   ]
  },
  {
   "cell_type": "markdown",
   "id": "c49fe705-4a55-48ce-91e6-d57ff77ddcc0",
   "metadata": {},
   "source": [
    "To make a choropleth we have to do some wrangling to convert GeoPandas DataFrame into a GeoJSON dict"
   ]
  },
  {
   "cell_type": "code",
   "execution_count": null,
   "id": "fcaff245-f906-495c-a707-75f180e1303c",
   "metadata": {},
   "outputs": [],
   "source": [
    "import json\n",
    "\n",
    "\n",
    "def geopandas_to_dict(sa4_gdf, jobs_df):\n",
    "    \"\"\"Create geojson dict from sa4 GeoPandas Dataframe\"\"\"\n",
    "    # discard regions we don't have data for to make ipyleaflet's Choropleth happy\n",
    "    target_regions = set(jobs_df[\"SA4_NAME16\"].unique())\n",
    "    sa4_gdf = sa4_gdf[sa4_gdf[\"SA4_NAME16\"].isin(target_regions)]\n",
    "\n",
    "    json_str = sa4_gdf.set_index(\"SA4_NAME16\")[\"geometry\"].to_json()\n",
    "    return json.loads(json_str)\n",
    "\n",
    "\n",
    "geojson = geopandas_to_dict(sa4_gdf, jobs_df)\n",
    "\n",
    "date_values_map = {\n",
    "    str(name.date()): dict(zip(jobs_df[\"SA4_NAME16\"], jobs_df[\"Index\"]))\n",
    "    for name, df in jobs_df.groupby(\"Date\")\n",
    "}"
   ]
  },
  {
   "cell_type": "code",
   "execution_count": null,
   "id": "f7fefe22-8fa2-44e7-8ad7-9fa48ebab4e5",
   "metadata": {},
   "outputs": [],
   "source": [
    "from ipyleaflet import Choropleth\n",
    "\n",
    "\n",
    "def plot_wage_choropleth(geojson, choro_data):\n",
    "\n",
    "    py_map = Map(\n",
    "        center=(-25.6091, 134.3619),\n",
    "        zoom=3,\n",
    "        basemap=basemaps.Esri.WorldTopoMap,\n",
    "        scroll_wheel_zoom=True,\n",
    "        layout=Layout(height=\"500px\"),\n",
    "    )\n",
    "    choro_layer = Choropleth(geo_data=geojson, choro_data=choro_data)\n",
    "    py_map.add_layer(choro_layer)\n",
    "    return py_map\n",
    "\n",
    "\n",
    "plot_wage_choropleth(geojson, date_values_map[\"2020-01-11\"])"
   ]
  },
  {
   "cell_type": "markdown",
   "id": "46a694ac-f941-4d13-9d95-39dd41c869d9",
   "metadata": {},
   "source": [
    "## Viz Libraries that use GeoJSON\n",
    "\n",
    "As far as I can tell, these all seem to require GeoJSON."
   ]
  },
  {
   "cell_type": "markdown",
   "id": "85799d42-4bae-4558-9799-644a21b1ef6a",
   "metadata": {},
   "source": [
    "### Plotly"
   ]
  },
  {
   "cell_type": "markdown",
   "id": "1ad1aca8-fd6e-4a61-92db-311c38dc65c0",
   "metadata": {},
   "source": [
    "### HoloViews"
   ]
  },
  {
   "cell_type": "markdown",
   "id": "08e249e5-dc9c-4cdb-8271-7b0fbf579ca1",
   "metadata": {},
   "source": [
    "### Altair"
   ]
  },
  {
   "cell_type": "markdown",
   "id": "db5070b6-7a0b-4906-952c-a2b2457e4297",
   "metadata": {
    "tags": []
   },
   "source": [
    "## What about big datasets?\n",
    "\n",
    "DataShader"
   ]
  }
 ],
 "metadata": {
  "kernelspec": {
   "display_name": "Python 3 (ipykernel)",
   "language": "python",
   "name": "python3"
  },
  "language_info": {
   "codemirror_mode": {
    "name": "ipython",
    "version": 3
   },
   "file_extension": ".py",
   "mimetype": "text/x-python",
   "name": "python",
   "nbconvert_exporter": "python",
   "pygments_lexer": "ipython3",
   "version": "3.10.4"
  }
 },
 "nbformat": 4,
 "nbformat_minor": 5
}
